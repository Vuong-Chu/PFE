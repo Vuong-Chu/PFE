{
 "cells": [
  {
   "cell_type": "code",
   "execution_count": 147,
   "metadata": {},
   "outputs": [],
   "source": [
    "import numpy as np\n",
    "import math\n",
    "from scipy import linalg, sparse"
   ]
  },
  {
   "cell_type": "code",
   "execution_count": 149,
   "metadata": {},
   "outputs": [],
   "source": [
    "def covnw(data, demean=True, *lag):\n",
    "    \"\"\"\n",
    "    Long-run covariance estimation using Newey-West (Bartlett) weights\n",
    "    Usage:\n",
    "        [V] = conw(data)\n",
    "        [V] = conw(data,demean,lag)\n",
    "    Inputs:\n",
    "        data   - matrix TxK of data\n",
    "        nlag   - non-negative integer containing the lag length to use. If empty or not included,\n",
    "            nlag = min(mth.floor(1.2*T^(1/3)),T) is used\n",
    "        demean - boolean value (true and false) indicating whether the mean should be subtracted when computing the covariance\n",
    "    Outputs:\n",
    "        V - A K by K covariance matrix estimated using Newey-West (Bartlett) weights\n",
    "        \n",
    "        EXAMPLES:\n",
    "      Simulate an AR(1)\n",
    "          y = armaxfilter_simulate(1000,0,1,.9);\n",
    "      Newey-West covariance with automatic BW selection\n",
    "          lrcov = covnw(y)\n",
    "      Newey-West covariance with 10 lags\n",
    "          lrcov = covnw(y, 10)\n",
    "      Newey-West covariance with 10 lags and no demeaning\n",
    "          lrcov = covnw(y, False, 10)\n",
    "    \"\"\"\n",
    "    T = data.shape[0]\n",
    "    if(not lag):\n",
    "        nlag = min(math.floor(1.2*T**(1/3)),T)\n",
    "    else:\n",
    "        nlag = lag[0]\n",
    "    if(math.floor(nlag)!=nlag or nlag<0):\n",
    "            raise Exception(\"NLAG must be a non-negative integer.\")\n",
    "    if(not isinstance(demean, bool)):\n",
    "        raise Exception(\"DEMEAN must be either logical True or False.\")\n",
    "    if(demean):\n",
    "        data = data - np.tile(np.mean(data,axis=0),(T,1))\n",
    "    #NW weights\n",
    "    w = ((nlag+1)*np.matrix(np.ones(nlag+1,))-np.mat(np.arange(0,nlag+1,1)))/(nlag+1)\n",
    "    #Start of covariance\n",
    "    V = np.dot(data.T,data)/T\n",
    "    for i in range(1,nlag+1):\n",
    "        Gammai = (data[i:T,:].T.dot(data[0:T-i,:]))/T\n",
    "        GplusGprime = (Gammai + Gammai.T)\n",
    "        V += w.item(0,i)*GplusGprime\n",
    "    return V"
   ]
  }
 ],
 "metadata": {
  "kernelspec": {
   "display_name": "Python 3",
   "language": "python",
   "name": "python3"
  },
  "language_info": {
   "codemirror_mode": {
    "name": "ipython",
    "version": 3
   },
   "file_extension": ".py",
   "mimetype": "text/x-python",
   "name": "python",
   "nbconvert_exporter": "python",
   "pygments_lexer": "ipython3",
   "version": "3.8.3"
  }
 },
 "nbformat": 4,
 "nbformat_minor": 4
}
